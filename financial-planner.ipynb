{
 "cells": [
  {
   "cell_type": "markdown",
   "metadata": {},
   "source": [
    "# Unit 5 - Financial Planning"
   ]
  },
  {
   "cell_type": "code",
   "execution_count": 1,
   "metadata": {},
   "outputs": [],
   "source": [
    "# Initial imports\n",
    "import os\n",
    "import requests\n",
    "import json\n",
    "import pandas as pd\n",
    "from dotenv import load_dotenv\n",
    "import alpaca_trade_api as tradeapi\n",
    "from MCForecastTools import MCSimulation\n",
    "from datetime import datetime, timedelta\n",
    "\n",
    "%matplotlib inline"
   ]
  },
  {
   "cell_type": "code",
   "execution_count": 2,
   "metadata": {},
   "outputs": [
    {
     "data": {
      "text/plain": [
       "True"
      ]
     },
     "execution_count": 2,
     "metadata": {},
     "output_type": "execute_result"
    }
   ],
   "source": [
    "# Load .env enviroment variables\n",
    "load_dotenv()"
   ]
  },
  {
   "cell_type": "markdown",
   "metadata": {},
   "source": [
    "## Part 1 - Personal Finance Planner"
   ]
  },
  {
   "cell_type": "markdown",
   "metadata": {},
   "source": [
    "### Collect Crypto Prices Using the `requests` Library"
   ]
  },
  {
   "cell_type": "code",
   "execution_count": 3,
   "metadata": {},
   "outputs": [],
   "source": [
    "# Set current amount of crypto assets\n",
    "my_btc = 1.2\n",
    "my_eth = 5.3"
   ]
  },
  {
   "cell_type": "code",
   "execution_count": 4,
   "metadata": {},
   "outputs": [],
   "source": [
    "# Crypto API URLs\n",
    "btc_url = \"https://api.alternative.me/v2/ticker/Bitcoin/?convert=CAD\"\n",
    "eth_url = \"https://api.alternative.me/v2/ticker/Ethereum/?convert=CAD\""
   ]
  },
  {
   "cell_type": "code",
   "execution_count": 5,
   "metadata": {},
   "outputs": [
    {
     "name": "stdout",
     "output_type": "stream",
     "text": [
      "{\n",
      "    \"data\": {\n",
      "        \"1\": {\n",
      "            \"id\": 1,\n",
      "            \"name\": \"Bitcoin\",\n",
      "            \"symbol\": \"BTC\",\n",
      "            \"website_slug\": \"bitcoin\",\n",
      "            \"rank\": 1,\n",
      "            \"circulating_supply\": 18989556,\n",
      "            \"total_supply\": 18989556,\n",
      "            \"max_supply\": 21000000,\n",
      "            \"quotes\": {\n",
      "                \"USD\": {\n",
      "                    \"price\": 41268.0,\n",
      "                    \"volume_24h\": 18597251400,\n",
      "                    \"market_cap\": 782873467708,\n",
      "                    \"percentage_change_1h\": 0.755288639326098,\n",
      "                    \"percentage_change_24h\": -1.56204430048463,\n",
      "                    \"percentage_change_7d\": 9.02263481935163,\n",
      "                    \"percent_change_1h\": 0.755288639326098,\n",
      "                    \"percent_change_24h\": -1.56204430048463,\n",
      "                    \"percent_change_7d\": 9.02263481935163\n",
      "                },\n",
      "                \"CAD\": {\n",
      "                    \"price\": 51964.6656,\n",
      "                    \"volume_24h\": 23417658962.88,\n",
      "                    \"market_cap\": 985794270537.913,\n",
      "                    \"percent_change_1h\": 0.755288639326098,\n",
      "                    \"percent_change_24h\": -1.56204430048463,\n",
      "                    \"percent_change_7d\": 9.02263481935163\n",
      "                }\n",
      "            },\n",
      "            \"last_updated\": 1647852159\n",
      "        }\n",
      "    },\n",
      "    \"metadata\": {\n",
      "        \"timestamp\": 1647852159,\n",
      "        \"num_cryptocurrencies\": 3105,\n",
      "        \"error\": null\n",
      "    }\n",
      "}\n",
      "41268.0\n",
      "{\n",
      "    \"data\": {\n",
      "        \"1027\": {\n",
      "            \"id\": 1027,\n",
      "            \"name\": \"Ethereum\",\n",
      "            \"symbol\": \"ETH\",\n",
      "            \"website_slug\": \"ethereum\",\n",
      "            \"rank\": 2,\n",
      "            \"circulating_supply\": 120048727,\n",
      "            \"total_supply\": 120048727,\n",
      "            \"max_supply\": 0,\n",
      "            \"quotes\": {\n",
      "                \"USD\": {\n",
      "                    \"price\": 2891.57,\n",
      "                    \"volume_24h\": 12524299969,\n",
      "                    \"market_cap\": 346663559582,\n",
      "                    \"percentage_change_1h\": 0.206647349383926,\n",
      "                    \"percentage_change_24h\": -1.29078821887442,\n",
      "                    \"percentage_change_7d\": 14.8135426175065,\n",
      "                    \"percent_change_1h\": 0.206647349383926,\n",
      "                    \"percent_change_24h\": -1.29078821887442,\n",
      "                    \"percent_change_7d\": 14.8135426175065\n",
      "                },\n",
      "                \"CAD\": {\n",
      "                    \"price\": 3641.064944,\n",
      "                    \"volume_24h\": 15770598520.9648,\n",
      "                    \"market_cap\": 436518754225.654,\n",
      "                    \"percent_change_1h\": 0.206647349383926,\n",
      "                    \"percent_change_24h\": -1.29078821887442,\n",
      "                    \"percent_change_7d\": 14.8135426175065\n",
      "                }\n",
      "            },\n",
      "            \"last_updated\": 1647852199\n",
      "        }\n",
      "    },\n",
      "    \"metadata\": {\n",
      "        \"timestamp\": 1647852199,\n",
      "        \"num_cryptocurrencies\": 3105,\n",
      "        \"error\": null\n",
      "    }\n",
      "}\n",
      "2891.57\n",
      "The current value of your 1.2 BTC is $49521.60\n",
      "The current value of your 5.3 ETH is $15325.32\n"
     ]
    }
   ],
   "source": [
    "# Fetch current BTC price\n",
    "response_btc_data = requests.get(btc_url)\n",
    "btc_data = response_btc_data.json()\n",
    "\n",
    "# Use json.dumps with argument indent=4 to format data\n",
    "print(json.dumps(btc_data, indent=4))\n",
    "\n",
    "print(btc_data[\"data\"][\"1\"][\"quotes\"][\"USD\"][\"price\"])\n",
    "\n",
    "# Fetch current ETH price\n",
    "response_eth_data = requests.get(eth_url)\n",
    "\n",
    "eth_data = response_eth_data.json()\n",
    "print(json.dumps(eth_data, indent=4))\n",
    "\n",
    "print(eth_data[\"data\"][\"1027\"][\"quotes\"][\"USD\"][\"price\"])\n",
    "\n",
    "# Compute current value of my crpto\n",
    "my_btc_value = my_btc * btc_data[\"data\"][\"1\"][\"quotes\"][\"USD\"][\"price\"]\n",
    "my_eth_value = my_eth * eth_data[\"data\"][\"1027\"][\"quotes\"][\"USD\"][\"price\"]\n",
    "\n",
    "# Print current crypto wallet balance\n",
    "print(f\"The current value of your {my_btc} BTC is ${my_btc_value:0.2f}\")\n",
    "print(f\"The current value of your {my_eth} ETH is ${my_eth_value:0.2f}\")"
   ]
  },
  {
   "cell_type": "markdown",
   "metadata": {},
   "source": [
    "### Collect Investments Data Using Alpaca: `SPY` (stocks) and `AGG` (bonds)"
   ]
  },
  {
   "cell_type": "code",
   "execution_count": 6,
   "metadata": {},
   "outputs": [],
   "source": [
    "# Set current amount of shares\n",
    "my_agg = 200\n",
    "my_spy = 50"
   ]
  },
  {
   "cell_type": "code",
   "execution_count": 7,
   "metadata": {},
   "outputs": [
    {
     "data": {
      "text/plain": [
       "<alpaca_trade_api.rest.REST at 0x7f861e27e410>"
      ]
     },
     "execution_count": 7,
     "metadata": {},
     "output_type": "execute_result"
    }
   ],
   "source": [
    "# Set Alpaca API key and secret\n",
    "alpaca_api_key = os.getenv(\"ALPACA_API_KEY\")\n",
    "alpaca_secret_key = os.getenv(\"ALPACA_SECRET_KEY\")\n",
    "type(alpaca_api_key)\n",
    "type(alpaca_secret_key)\n",
    "\n",
    "# Create the Alpaca API object\n",
    "alpaca = tradeapi.REST(\n",
    "    alpaca_api_key,\n",
    "    alpaca_secret_key,\n",
    "    api_version=\"v2\")\n",
    "\n",
    "alpaca"
   ]
  },
  {
   "cell_type": "code",
   "execution_count": 8,
   "metadata": {},
   "outputs": [
    {
     "data": {
      "text/html": [
       "<div>\n",
       "<style scoped>\n",
       "    .dataframe tbody tr th:only-of-type {\n",
       "        vertical-align: middle;\n",
       "    }\n",
       "\n",
       "    .dataframe tbody tr th {\n",
       "        vertical-align: top;\n",
       "    }\n",
       "\n",
       "    .dataframe thead th {\n",
       "        text-align: right;\n",
       "    }\n",
       "</style>\n",
       "<table border=\"1\" class=\"dataframe\">\n",
       "  <thead>\n",
       "    <tr style=\"text-align: right;\">\n",
       "      <th></th>\n",
       "      <th>open</th>\n",
       "      <th>high</th>\n",
       "      <th>low</th>\n",
       "      <th>close</th>\n",
       "      <th>volume</th>\n",
       "      <th>trade_count</th>\n",
       "      <th>vwap</th>\n",
       "      <th>symbol</th>\n",
       "    </tr>\n",
       "    <tr>\n",
       "      <th>timestamp</th>\n",
       "      <th></th>\n",
       "      <th></th>\n",
       "      <th></th>\n",
       "      <th></th>\n",
       "      <th></th>\n",
       "      <th></th>\n",
       "      <th></th>\n",
       "      <th></th>\n",
       "    </tr>\n",
       "  </thead>\n",
       "  <tbody>\n",
       "    <tr>\n",
       "      <th>2022-03-01 05:00:00+00:00</th>\n",
       "      <td>110.600</td>\n",
       "      <td>111.1700</td>\n",
       "      <td>110.5700</td>\n",
       "      <td>110.82</td>\n",
       "      <td>14248500</td>\n",
       "      <td>39215</td>\n",
       "      <td>110.836369</td>\n",
       "      <td>AGG</td>\n",
       "    </tr>\n",
       "    <tr>\n",
       "      <th>2022-03-02 05:00:00+00:00</th>\n",
       "      <td>110.310</td>\n",
       "      <td>110.3800</td>\n",
       "      <td>109.4600</td>\n",
       "      <td>109.49</td>\n",
       "      <td>8489288</td>\n",
       "      <td>27605</td>\n",
       "      <td>109.930996</td>\n",
       "      <td>AGG</td>\n",
       "    </tr>\n",
       "    <tr>\n",
       "      <th>2022-03-03 05:00:00+00:00</th>\n",
       "      <td>109.785</td>\n",
       "      <td>110.0000</td>\n",
       "      <td>109.6500</td>\n",
       "      <td>109.86</td>\n",
       "      <td>15479351</td>\n",
       "      <td>47775</td>\n",
       "      <td>109.822045</td>\n",
       "      <td>AGG</td>\n",
       "    </tr>\n",
       "    <tr>\n",
       "      <th>2022-03-04 05:00:00+00:00</th>\n",
       "      <td>110.380</td>\n",
       "      <td>110.5500</td>\n",
       "      <td>110.2250</td>\n",
       "      <td>110.30</td>\n",
       "      <td>8116629</td>\n",
       "      <td>26863</td>\n",
       "      <td>110.381556</td>\n",
       "      <td>AGG</td>\n",
       "    </tr>\n",
       "    <tr>\n",
       "      <th>2022-03-07 05:00:00+00:00</th>\n",
       "      <td>109.850</td>\n",
       "      <td>110.1400</td>\n",
       "      <td>109.6400</td>\n",
       "      <td>109.66</td>\n",
       "      <td>12474681</td>\n",
       "      <td>35203</td>\n",
       "      <td>109.871205</td>\n",
       "      <td>AGG</td>\n",
       "    </tr>\n",
       "    <tr>\n",
       "      <th>2022-03-08 05:00:00+00:00</th>\n",
       "      <td>109.230</td>\n",
       "      <td>109.3301</td>\n",
       "      <td>109.1201</td>\n",
       "      <td>109.27</td>\n",
       "      <td>8639904</td>\n",
       "      <td>25293</td>\n",
       "      <td>109.234523</td>\n",
       "      <td>AGG</td>\n",
       "    </tr>\n",
       "    <tr>\n",
       "      <th>2022-03-09 05:00:00+00:00</th>\n",
       "      <td>109.090</td>\n",
       "      <td>109.2090</td>\n",
       "      <td>108.9300</td>\n",
       "      <td>109.04</td>\n",
       "      <td>9873754</td>\n",
       "      <td>29005</td>\n",
       "      <td>109.058720</td>\n",
       "      <td>AGG</td>\n",
       "    </tr>\n",
       "    <tr>\n",
       "      <th>2022-03-10 05:00:00+00:00</th>\n",
       "      <td>108.650</td>\n",
       "      <td>108.6800</td>\n",
       "      <td>108.2500</td>\n",
       "      <td>108.43</td>\n",
       "      <td>13646915</td>\n",
       "      <td>42329</td>\n",
       "      <td>108.417461</td>\n",
       "      <td>AGG</td>\n",
       "    </tr>\n",
       "    <tr>\n",
       "      <th>2022-03-11 05:00:00+00:00</th>\n",
       "      <td>108.440</td>\n",
       "      <td>108.5500</td>\n",
       "      <td>108.3400</td>\n",
       "      <td>108.41</td>\n",
       "      <td>10662625</td>\n",
       "      <td>29475</td>\n",
       "      <td>108.421874</td>\n",
       "      <td>AGG</td>\n",
       "    </tr>\n",
       "    <tr>\n",
       "      <th>2022-03-14 04:00:00+00:00</th>\n",
       "      <td>107.780</td>\n",
       "      <td>107.8160</td>\n",
       "      <td>107.3600</td>\n",
       "      <td>107.36</td>\n",
       "      <td>9492508</td>\n",
       "      <td>34364</td>\n",
       "      <td>107.571987</td>\n",
       "      <td>AGG</td>\n",
       "    </tr>\n",
       "    <tr>\n",
       "      <th>2022-03-15 04:00:00+00:00</th>\n",
       "      <td>107.830</td>\n",
       "      <td>107.9200</td>\n",
       "      <td>107.4300</td>\n",
       "      <td>107.60</td>\n",
       "      <td>13841071</td>\n",
       "      <td>33852</td>\n",
       "      <td>107.622094</td>\n",
       "      <td>AGG</td>\n",
       "    </tr>\n",
       "    <tr>\n",
       "      <th>2022-03-16 04:00:00+00:00</th>\n",
       "      <td>107.630</td>\n",
       "      <td>107.7300</td>\n",
       "      <td>107.0032</td>\n",
       "      <td>107.68</td>\n",
       "      <td>15809171</td>\n",
       "      <td>43366</td>\n",
       "      <td>107.553629</td>\n",
       "      <td>AGG</td>\n",
       "    </tr>\n",
       "    <tr>\n",
       "      <th>2022-03-17 04:00:00+00:00</th>\n",
       "      <td>107.870</td>\n",
       "      <td>108.0600</td>\n",
       "      <td>107.7300</td>\n",
       "      <td>107.86</td>\n",
       "      <td>8005258</td>\n",
       "      <td>24093</td>\n",
       "      <td>107.889900</td>\n",
       "      <td>AGG</td>\n",
       "    </tr>\n",
       "    <tr>\n",
       "      <th>2022-03-18 04:00:00+00:00</th>\n",
       "      <td>107.950</td>\n",
       "      <td>108.1400</td>\n",
       "      <td>107.9203</td>\n",
       "      <td>108.10</td>\n",
       "      <td>7800354</td>\n",
       "      <td>23567</td>\n",
       "      <td>108.060585</td>\n",
       "      <td>AGG</td>\n",
       "    </tr>\n",
       "    <tr>\n",
       "      <th>2022-03-01 05:00:00+00:00</th>\n",
       "      <td>435.100</td>\n",
       "      <td>437.1700</td>\n",
       "      <td>427.2100</td>\n",
       "      <td>429.98</td>\n",
       "      <td>132857631</td>\n",
       "      <td>1350987</td>\n",
       "      <td>431.675336</td>\n",
       "      <td>SPY</td>\n",
       "    </tr>\n",
       "    <tr>\n",
       "      <th>2022-03-02 05:00:00+00:00</th>\n",
       "      <td>432.420</td>\n",
       "      <td>439.7200</td>\n",
       "      <td>431.5700</td>\n",
       "      <td>437.89</td>\n",
       "      <td>113504091</td>\n",
       "      <td>1192990</td>\n",
       "      <td>436.227698</td>\n",
       "      <td>SPY</td>\n",
       "    </tr>\n",
       "    <tr>\n",
       "      <th>2022-03-03 05:00:00+00:00</th>\n",
       "      <td>440.390</td>\n",
       "      <td>441.1100</td>\n",
       "      <td>433.8000</td>\n",
       "      <td>435.71</td>\n",
       "      <td>99816064</td>\n",
       "      <td>993442</td>\n",
       "      <td>436.937317</td>\n",
       "      <td>SPY</td>\n",
       "    </tr>\n",
       "    <tr>\n",
       "      <th>2022-03-04 05:00:00+00:00</th>\n",
       "      <td>432.030</td>\n",
       "      <td>433.3700</td>\n",
       "      <td>427.8800</td>\n",
       "      <td>432.17</td>\n",
       "      <td>108964209</td>\n",
       "      <td>1043164</td>\n",
       "      <td>430.912347</td>\n",
       "      <td>SPY</td>\n",
       "    </tr>\n",
       "    <tr>\n",
       "      <th>2022-03-07 05:00:00+00:00</th>\n",
       "      <td>431.440</td>\n",
       "      <td>432.3018</td>\n",
       "      <td>419.3600</td>\n",
       "      <td>419.43</td>\n",
       "      <td>131262026</td>\n",
       "      <td>1390460</td>\n",
       "      <td>424.067609</td>\n",
       "      <td>SPY</td>\n",
       "    </tr>\n",
       "    <tr>\n",
       "      <th>2022-03-08 05:00:00+00:00</th>\n",
       "      <td>419.725</td>\n",
       "      <td>427.2100</td>\n",
       "      <td>415.1200</td>\n",
       "      <td>416.25</td>\n",
       "      <td>158890009</td>\n",
       "      <td>1864071</td>\n",
       "      <td>419.755053</td>\n",
       "      <td>SPY</td>\n",
       "    </tr>\n",
       "    <tr>\n",
       "      <th>2022-03-09 05:00:00+00:00</th>\n",
       "      <td>425.160</td>\n",
       "      <td>429.5100</td>\n",
       "      <td>422.8300</td>\n",
       "      <td>427.41</td>\n",
       "      <td>110780810</td>\n",
       "      <td>1086809</td>\n",
       "      <td>426.130400</td>\n",
       "      <td>SPY</td>\n",
       "    </tr>\n",
       "    <tr>\n",
       "      <th>2022-03-10 05:00:00+00:00</th>\n",
       "      <td>422.730</td>\n",
       "      <td>426.4300</td>\n",
       "      <td>420.4400</td>\n",
       "      <td>425.48</td>\n",
       "      <td>91933914</td>\n",
       "      <td>891241</td>\n",
       "      <td>423.871044</td>\n",
       "      <td>SPY</td>\n",
       "    </tr>\n",
       "    <tr>\n",
       "      <th>2022-03-11 05:00:00+00:00</th>\n",
       "      <td>428.180</td>\n",
       "      <td>428.7700</td>\n",
       "      <td>419.5300</td>\n",
       "      <td>420.07</td>\n",
       "      <td>90803923</td>\n",
       "      <td>809145</td>\n",
       "      <td>424.040193</td>\n",
       "      <td>SPY</td>\n",
       "    </tr>\n",
       "    <tr>\n",
       "      <th>2022-03-14 04:00:00+00:00</th>\n",
       "      <td>420.975</td>\n",
       "      <td>424.5500</td>\n",
       "      <td>415.7900</td>\n",
       "      <td>417.00</td>\n",
       "      <td>91930409</td>\n",
       "      <td>863515</td>\n",
       "      <td>419.203845</td>\n",
       "      <td>SPY</td>\n",
       "    </tr>\n",
       "    <tr>\n",
       "      <th>2022-03-15 04:00:00+00:00</th>\n",
       "      <td>419.900</td>\n",
       "      <td>426.8400</td>\n",
       "      <td>418.4200</td>\n",
       "      <td>426.17</td>\n",
       "      <td>104219651</td>\n",
       "      <td>920659</td>\n",
       "      <td>422.752423</td>\n",
       "      <td>SPY</td>\n",
       "    </tr>\n",
       "    <tr>\n",
       "      <th>2022-03-16 04:00:00+00:00</th>\n",
       "      <td>429.940</td>\n",
       "      <td>435.6800</td>\n",
       "      <td>424.8000</td>\n",
       "      <td>435.62</td>\n",
       "      <td>138130298</td>\n",
       "      <td>1344164</td>\n",
       "      <td>431.339744</td>\n",
       "      <td>SPY</td>\n",
       "    </tr>\n",
       "    <tr>\n",
       "      <th>2022-03-17 04:00:00+00:00</th>\n",
       "      <td>433.700</td>\n",
       "      <td>441.0700</td>\n",
       "      <td>433.1900</td>\n",
       "      <td>441.07</td>\n",
       "      <td>100157174</td>\n",
       "      <td>784018</td>\n",
       "      <td>437.706981</td>\n",
       "      <td>SPY</td>\n",
       "    </tr>\n",
       "    <tr>\n",
       "      <th>2022-03-18 04:00:00+00:00</th>\n",
       "      <td>438.200</td>\n",
       "      <td>444.8600</td>\n",
       "      <td>437.2200</td>\n",
       "      <td>444.52</td>\n",
       "      <td>102327793</td>\n",
       "      <td>790235</td>\n",
       "      <td>441.458916</td>\n",
       "      <td>SPY</td>\n",
       "    </tr>\n",
       "  </tbody>\n",
       "</table>\n",
       "</div>"
      ],
      "text/plain": [
       "                              open      high       low   close     volume  \\\n",
       "timestamp                                                                   \n",
       "2022-03-01 05:00:00+00:00  110.600  111.1700  110.5700  110.82   14248500   \n",
       "2022-03-02 05:00:00+00:00  110.310  110.3800  109.4600  109.49    8489288   \n",
       "2022-03-03 05:00:00+00:00  109.785  110.0000  109.6500  109.86   15479351   \n",
       "2022-03-04 05:00:00+00:00  110.380  110.5500  110.2250  110.30    8116629   \n",
       "2022-03-07 05:00:00+00:00  109.850  110.1400  109.6400  109.66   12474681   \n",
       "2022-03-08 05:00:00+00:00  109.230  109.3301  109.1201  109.27    8639904   \n",
       "2022-03-09 05:00:00+00:00  109.090  109.2090  108.9300  109.04    9873754   \n",
       "2022-03-10 05:00:00+00:00  108.650  108.6800  108.2500  108.43   13646915   \n",
       "2022-03-11 05:00:00+00:00  108.440  108.5500  108.3400  108.41   10662625   \n",
       "2022-03-14 04:00:00+00:00  107.780  107.8160  107.3600  107.36    9492508   \n",
       "2022-03-15 04:00:00+00:00  107.830  107.9200  107.4300  107.60   13841071   \n",
       "2022-03-16 04:00:00+00:00  107.630  107.7300  107.0032  107.68   15809171   \n",
       "2022-03-17 04:00:00+00:00  107.870  108.0600  107.7300  107.86    8005258   \n",
       "2022-03-18 04:00:00+00:00  107.950  108.1400  107.9203  108.10    7800354   \n",
       "2022-03-01 05:00:00+00:00  435.100  437.1700  427.2100  429.98  132857631   \n",
       "2022-03-02 05:00:00+00:00  432.420  439.7200  431.5700  437.89  113504091   \n",
       "2022-03-03 05:00:00+00:00  440.390  441.1100  433.8000  435.71   99816064   \n",
       "2022-03-04 05:00:00+00:00  432.030  433.3700  427.8800  432.17  108964209   \n",
       "2022-03-07 05:00:00+00:00  431.440  432.3018  419.3600  419.43  131262026   \n",
       "2022-03-08 05:00:00+00:00  419.725  427.2100  415.1200  416.25  158890009   \n",
       "2022-03-09 05:00:00+00:00  425.160  429.5100  422.8300  427.41  110780810   \n",
       "2022-03-10 05:00:00+00:00  422.730  426.4300  420.4400  425.48   91933914   \n",
       "2022-03-11 05:00:00+00:00  428.180  428.7700  419.5300  420.07   90803923   \n",
       "2022-03-14 04:00:00+00:00  420.975  424.5500  415.7900  417.00   91930409   \n",
       "2022-03-15 04:00:00+00:00  419.900  426.8400  418.4200  426.17  104219651   \n",
       "2022-03-16 04:00:00+00:00  429.940  435.6800  424.8000  435.62  138130298   \n",
       "2022-03-17 04:00:00+00:00  433.700  441.0700  433.1900  441.07  100157174   \n",
       "2022-03-18 04:00:00+00:00  438.200  444.8600  437.2200  444.52  102327793   \n",
       "\n",
       "                           trade_count        vwap symbol  \n",
       "timestamp                                                  \n",
       "2022-03-01 05:00:00+00:00        39215  110.836369    AGG  \n",
       "2022-03-02 05:00:00+00:00        27605  109.930996    AGG  \n",
       "2022-03-03 05:00:00+00:00        47775  109.822045    AGG  \n",
       "2022-03-04 05:00:00+00:00        26863  110.381556    AGG  \n",
       "2022-03-07 05:00:00+00:00        35203  109.871205    AGG  \n",
       "2022-03-08 05:00:00+00:00        25293  109.234523    AGG  \n",
       "2022-03-09 05:00:00+00:00        29005  109.058720    AGG  \n",
       "2022-03-10 05:00:00+00:00        42329  108.417461    AGG  \n",
       "2022-03-11 05:00:00+00:00        29475  108.421874    AGG  \n",
       "2022-03-14 04:00:00+00:00        34364  107.571987    AGG  \n",
       "2022-03-15 04:00:00+00:00        33852  107.622094    AGG  \n",
       "2022-03-16 04:00:00+00:00        43366  107.553629    AGG  \n",
       "2022-03-17 04:00:00+00:00        24093  107.889900    AGG  \n",
       "2022-03-18 04:00:00+00:00        23567  108.060585    AGG  \n",
       "2022-03-01 05:00:00+00:00      1350987  431.675336    SPY  \n",
       "2022-03-02 05:00:00+00:00      1192990  436.227698    SPY  \n",
       "2022-03-03 05:00:00+00:00       993442  436.937317    SPY  \n",
       "2022-03-04 05:00:00+00:00      1043164  430.912347    SPY  \n",
       "2022-03-07 05:00:00+00:00      1390460  424.067609    SPY  \n",
       "2022-03-08 05:00:00+00:00      1864071  419.755053    SPY  \n",
       "2022-03-09 05:00:00+00:00      1086809  426.130400    SPY  \n",
       "2022-03-10 05:00:00+00:00       891241  423.871044    SPY  \n",
       "2022-03-11 05:00:00+00:00       809145  424.040193    SPY  \n",
       "2022-03-14 04:00:00+00:00       863515  419.203845    SPY  \n",
       "2022-03-15 04:00:00+00:00       920659  422.752423    SPY  \n",
       "2022-03-16 04:00:00+00:00      1344164  431.339744    SPY  \n",
       "2022-03-17 04:00:00+00:00       784018  437.706981    SPY  \n",
       "2022-03-18 04:00:00+00:00       790235  441.458916    SPY  "
      ]
     },
     "execution_count": 8,
     "metadata": {},
     "output_type": "execute_result"
    }
   ],
   "source": [
    "# Format current date as ISO format\n",
    "# end= pd.Timestamp.today(tz=\"America/Chicago\").isoformat()\n",
    "# start = datetime.now() + timedelta(days=-1000)\n",
    "# start = pd.Timestamp(end,tz=\"America/Chicago\").isoformat()\n",
    "start = pd.Timestamp(\"2022-03-01\", tz=\"America/New_York\").isoformat()\n",
    "end = pd.Timestamp(\"2022-03-18\", tz=\"America/New_York\").isoformat()\n",
    "\n",
    "# Set the tickers\n",
    "tickers = [\"AGG\", \"SPY\"]\n",
    "\n",
    "# Set timeframe to '1D' for Alpaca API\n",
    "timeframe = \"1Day\" \n",
    "\n",
    "# Get current closing prices for SPY and AGG\n",
    "# (use a limit=1000 parameter to call the most recent 1000 days of data)\n",
    "df_portfolio = alpaca.get_bars(\n",
    "    tickers,\n",
    "    timeframe,\n",
    "    start,\n",
    "    end\n",
    ").df\n",
    "\n",
    "# Preview DataFrame\n",
    "df_portfolio"
   ]
  },
  {
   "cell_type": "code",
   "execution_count": 9,
   "metadata": {},
   "outputs": [
    {
     "name": "stdout",
     "output_type": "stream",
     "text": [
      "Current AGG closing price: $[108.1]\n",
      "Current SPY closing price: $[444.52]\n"
     ]
    }
   ],
   "source": [
    "# Pick AGG and SPY close prices\n",
    "spy_bars = df_portfolio.loc[df_portfolio[\"symbol\"] == \"SPY\"]\n",
    "agg_bars = df_portfolio.loc[df_portfolio[\"symbol\"] == \"AGG\"]\n",
    "\n",
    "spy_close_price = spy_bars.tail(1).close.values\n",
    "agg_close_price = agg_bars.tail(1).close.values\n",
    "\n",
    "# Print AGG and SPY close prices\n",
    "print(f\"Current AGG closing price: ${agg_close_price}\")\n",
    "print(f\"Current SPY closing price: ${spy_close_price}\")"
   ]
  },
  {
   "cell_type": "code",
   "execution_count": 10,
   "metadata": {},
   "outputs": [
    {
     "name": "stdout",
     "output_type": "stream",
     "text": [
      "The current value of your 50 SPY shares is $22226.00\n",
      "The current value of your 200 AGG shares is $21620.00\n"
     ]
    }
   ],
   "source": [
    "# Compute the current value of shares\n",
    "my_spy_value = float(my_spy * spy_close_price)\n",
    "my_agg_value = float(my_agg * agg_close_price)\n",
    "\n",
    "# Print current value of shares\n",
    "print(f\"The current value of your {my_spy} SPY shares is ${my_spy_value:0.2f}\")\n",
    "print(f\"The current value of your {my_agg} AGG shares is ${my_agg_value:0.2f}\")"
   ]
  },
  {
   "cell_type": "markdown",
   "metadata": {},
   "source": [
    "### Savings Health Analysis"
   ]
  },
  {
   "cell_type": "code",
   "execution_count": 11,
   "metadata": {},
   "outputs": [
    {
     "data": {
      "text/html": [
       "<div>\n",
       "<style scoped>\n",
       "    .dataframe tbody tr th:only-of-type {\n",
       "        vertical-align: middle;\n",
       "    }\n",
       "\n",
       "    .dataframe tbody tr th {\n",
       "        vertical-align: top;\n",
       "    }\n",
       "\n",
       "    .dataframe thead th {\n",
       "        text-align: right;\n",
       "    }\n",
       "</style>\n",
       "<table border=\"1\" class=\"dataframe\">\n",
       "  <thead>\n",
       "    <tr style=\"text-align: right;\">\n",
       "      <th></th>\n",
       "      <th>amount</th>\n",
       "    </tr>\n",
       "  </thead>\n",
       "  <tbody>\n",
       "    <tr>\n",
       "      <th>Crypto</th>\n",
       "      <td>64846.921</td>\n",
       "    </tr>\n",
       "    <tr>\n",
       "      <th>Shares</th>\n",
       "      <td>43846.000</td>\n",
       "    </tr>\n",
       "  </tbody>\n",
       "</table>\n",
       "</div>"
      ],
      "text/plain": [
       "           amount\n",
       "Crypto  64846.921\n",
       "Shares  43846.000"
      ]
     },
     "metadata": {},
     "output_type": "display_data"
    }
   ],
   "source": [
    "# Set monthly household income\n",
    "monthly_income = 12000\n",
    "total_crypto_value = my_btc_value + my_eth_value\n",
    "total_shares_value = my_spy_value + my_agg_value\n",
    "\n",
    "# Consolidate financial assets data\n",
    "assets_data = {\n",
    "    \"amount\": [total_crypto_value, total_shares_value]\n",
    "}\n",
    "\n",
    "# Set the tickers\n",
    "tickers = [\"Crypto\", \"Shares\"]\n",
    "\n",
    "# Create savings DataFrame\n",
    "df_savings = pd.DataFrame(assets_data, index=tickers)\n",
    "\n",
    "# Display savings DataFrame\n",
    "display(df_savings)"
   ]
  },
  {
   "cell_type": "code",
   "execution_count": 12,
   "metadata": {},
   "outputs": [
    {
     "data": {
      "text/plain": [
       "<AxesSubplot:title={'center':'Stocks Portfolio Composition'}, ylabel='amount'>"
      ]
     },
     "execution_count": 12,
     "metadata": {},
     "output_type": "execute_result"
    },
    {
     "data": {
      "image/png": "[encoded data removed]",
      "text/plain": [
       "<Figure size 432x288 with 1 Axes>"
      ]
     },
     "metadata": {},
     "output_type": "display_data"
    }
   ],
   "source": [
    "# Plot savings pie chart\n",
    "df_savings.plot.pie(y=\"amount\", title=\"Composition of Personal Savings\")"
   ]
  },
  {
   "cell_type": "code",
   "execution_count": 17,
   "metadata": {},
   "outputs": [
    {
     "name": "stdout",
     "output_type": "stream",
     "text": [
      "36000\n",
      "108692.921\n",
      "Congratulating the person for having enough money in this fund\n"
     ]
    }
   ],
   "source": [
    "# Set ideal emergency fund\n",
    "emergency_fund = monthly_income * 3\n",
    "##print(emergency_fund)\n",
    "\n",
    "# Calculate total amount of savings\n",
    "total_savings = total_crypto_value + total_shares_value\n",
    "##print(total_savings)\n",
    "\n",
    "# Validate saving health\n",
    "if (total_savings > emergency_fund):\n",
    "    print(\"Congratulating the person for having enough money in this fund\")\n",
    "elif (total_savings == emergency_fund):\n",
    "    print(\"congratulating the person on reaching this financial goal\")\n",
    "else: \n",
    "    deficit = emergency_fund - total_savings\n",
    "    print(f\"You are ${deficit} away the person is from reaching the goal\")"
   ]
  },
  {
   "cell_type": "markdown",
   "metadata": {},
   "source": [
    "## Part 2 - Retirement Planning\n",
    "\n",
    "### Monte Carlo Simulation"
   ]
  },
  {
   "cell_type": "code",
   "execution_count": null,
   "metadata": {},
   "outputs": [],
   "source": [
    "# Set start and end dates of five years back from today.\n",
    "# Sample results may vary from the solution based on the time frame chosen\n",
    "start_date = pd.Timestamp('2016-05-01', tz='America/New_York').isoformat()\n",
    "end_date = pd.Timestamp('2021-05-01', tz='America/New_York').isoformat()"
   ]
  },
  {
   "cell_type": "code",
   "execution_count": null,
   "metadata": {},
   "outputs": [],
   "source": [
    "# Get 5 years' worth of historical data for SPY and AGG\n",
    "# (use a limit=1000 parameter to call the most recent 1000 days of data)\n",
    "# YOUR CODE HERE!\n",
    "\n",
    "# Display sample data\n",
    "df_stock_data.head()"
   ]
  },
  {
   "cell_type": "code",
   "execution_count": null,
   "metadata": {},
   "outputs": [],
   "source": [
    "# Configuring a Monte Carlo simulation to forecast 30 years cumulative returns\n",
    "# YOUR CODE HERE!"
   ]
  },
  {
   "cell_type": "code",
   "execution_count": null,
   "metadata": {},
   "outputs": [],
   "source": [
    "# Printing the simulation input data\n",
    "# YOUR CODE HERE!"
   ]
  },
  {
   "cell_type": "code",
   "execution_count": null,
   "metadata": {},
   "outputs": [],
   "source": [
    "# Running a Monte Carlo simulation to forecast 30 years cumulative returns\n",
    "# YOUR CODE HERE!"
   ]
  },
  {
   "cell_type": "code",
   "execution_count": null,
   "metadata": {},
   "outputs": [],
   "source": [
    "# Plot simulation outcomes\n",
    "# YOUR CODE HERE!"
   ]
  },
  {
   "cell_type": "code",
   "execution_count": null,
   "metadata": {},
   "outputs": [],
   "source": [
    "# Plot probability distribution and confidence intervals\n",
    "# YOUR CODE HERE!"
   ]
  },
  {
   "cell_type": "markdown",
   "metadata": {},
   "source": [
    "### Retirement Analysis"
   ]
  },
  {
   "cell_type": "code",
   "execution_count": null,
   "metadata": {},
   "outputs": [],
   "source": [
    "# Fetch summary statistics from the Monte Carlo simulation results\n",
    "# YOUR CODE HERE!\n",
    "\n",
    "# Print summary statistics\n",
    "# YOUR CODE HERE!"
   ]
  },
  {
   "cell_type": "markdown",
   "metadata": {},
   "source": [
    "### Calculate the expected portfolio return at the `95%` lower and upper confidence intervals based on a `$20,000` initial investment."
   ]
  },
  {
   "cell_type": "code",
   "execution_count": null,
   "metadata": {},
   "outputs": [],
   "source": [
    "# Set initial investment\n",
    "initial_investment = 20000\n",
    "\n",
    "# Use the lower and upper `95%` confidence intervals to calculate the range of the possible outcomes of our $20,000\n",
    "# YOUR CODE HERE!\n",
    "\n",
    "# Print results\n",
    "print(f\"There is a 95% chance that an initial investment of ${initial_investment} in the portfolio\"\n",
    "      f\" over the next 30 years will end within in the range of\"\n",
    "      f\" ${ci_lower} and ${ci_upper}\")"
   ]
  },
  {
   "cell_type": "markdown",
   "metadata": {},
   "source": [
    "### Calculate the expected portfolio return at the `95%` lower and upper confidence intervals based on a `50%` increase in the initial investment."
   ]
  },
  {
   "cell_type": "code",
   "execution_count": null,
   "metadata": {},
   "outputs": [],
   "source": [
    "# Set initial investment\n",
    "initial_investment = 20000 * 1.5\n",
    "\n",
    "# Use the lower and upper `95%` confidence intervals to calculate the range of the possible outcomes of our $30,000\n",
    "# YOUR CODE HERE!\n",
    "\n",
    "# Print results\n",
    "print(f\"There is a 95% chance that an initial investment of ${initial_investment} in the portfolio\"\n",
    "      f\" over the next 30 years will end within in the range of\"\n",
    "      f\" ${ci_lower} and ${ci_upper}\")"
   ]
  },
  {
   "cell_type": "markdown",
   "metadata": {},
   "source": [
    "## Optional Challenge - Early Retirement\n",
    "\n",
    "\n",
    "### Five Years Retirement Option"
   ]
  },
  {
   "cell_type": "code",
   "execution_count": null,
   "metadata": {},
   "outputs": [],
   "source": [
    "# Configuring a Monte Carlo simulation to forecast 5 years cumulative returns\n",
    "# YOUR CODE HERE!"
   ]
  },
  {
   "cell_type": "code",
   "execution_count": null,
   "metadata": {},
   "outputs": [],
   "source": [
    "# Running a Monte Carlo simulation to forecast 5 years cumulative returns\n",
    "# YOUR CODE HERE!"
   ]
  },
  {
   "cell_type": "code",
   "execution_count": null,
   "metadata": {},
   "outputs": [],
   "source": [
    "# Plot simulation outcomes\n",
    "# YOUR CODE HERE!"
   ]
  },
  {
   "cell_type": "code",
   "execution_count": null,
   "metadata": {},
   "outputs": [],
   "source": [
    "# Plot probability distribution and confidence intervals\n",
    "# YOUR CODE HERE!"
   ]
  },
  {
   "cell_type": "code",
   "execution_count": null,
   "metadata": {},
   "outputs": [],
   "source": [
    "# Fetch summary statistics from the Monte Carlo simulation results\n",
    "# YOUR CODE HERE!\n",
    "\n",
    "# Print summary statistics\n",
    "# YOUR CODE HERE!"
   ]
  },
  {
   "cell_type": "code",
   "execution_count": null,
   "metadata": {},
   "outputs": [],
   "source": [
    "# Set initial investment\n",
    "# YOUR CODE HERE!\n",
    "\n",
    "# Use the lower and upper `95%` confidence intervals to calculate the range of the possible outcomes of our $60,000\n",
    "# YOUR CODE HERE!\n",
    "\n",
    "# Print results\n",
    "print(f\"There is a 95% chance that an initial investment of ${initial_investment} in the portfolio\"\n",
    "      f\" over the next 5 years will end within in the range of\"\n",
    "      f\" ${ci_lower_five} and ${ci_upper_five}\")"
   ]
  },
  {
   "cell_type": "markdown",
   "metadata": {},
   "source": [
    "### Ten Years Retirement Option"
   ]
  },
  {
   "cell_type": "code",
   "execution_count": null,
   "metadata": {},
   "outputs": [],
   "source": [
    "# Configuring a Monte Carlo simulation to forecast 10 years cumulative returns\n",
    "# YOUR CODE HERE!"
   ]
  },
  {
   "cell_type": "code",
   "execution_count": null,
   "metadata": {},
   "outputs": [],
   "source": [
    "# Running a Monte Carlo simulation to forecast 10 years cumulative returns\n",
    "# YOUR CODE HERE!"
   ]
  },
  {
   "cell_type": "code",
   "execution_count": null,
   "metadata": {},
   "outputs": [],
   "source": [
    "# Plot simulation outcomes\n",
    "# YOUR CODE HERE!"
   ]
  },
  {
   "cell_type": "code",
   "execution_count": null,
   "metadata": {},
   "outputs": [],
   "source": [
    "# Plot probability distribution and confidence intervals\n",
    "# YOUR CODE HERE!"
   ]
  },
  {
   "cell_type": "code",
   "execution_count": null,
   "metadata": {},
   "outputs": [],
   "source": [
    "# Fetch summary statistics from the Monte Carlo simulation results\n",
    "# YOUR CODE HERE!\n",
    "\n",
    "# Print summary statistics\n",
    "# YOUR CODE HERE!"
   ]
  },
  {
   "cell_type": "code",
   "execution_count": null,
   "metadata": {},
   "outputs": [],
   "source": [
    "# Set initial investment\n",
    "# YOUR CODE HERE!\n",
    "\n",
    "# Use the lower and upper `95%` confidence intervals to calculate the range of the possible outcomes of our $60,000\n",
    "# YOUR CODE HERE!\n",
    "\n",
    "# Print results\n",
    "print(f\"There is a 95% chance that an initial investment of ${initial_investment} in the portfolio\"\n",
    "      f\" over the next 10 years will end within in the range of\"\n",
    "      f\" ${ci_lower_ten} and ${ci_upper_ten}\")"
   ]
  },
  {
   "cell_type": "code",
   "execution_count": null,
   "metadata": {},
   "outputs": [],
   "source": []
  }
 ],
 "metadata": {
  "kernelspec": {
   "display_name": "Python 3 (ipykernel)",
   "language": "python",
   "name": "python3"
  },
  "language_info": {
   "codemirror_mode": {
    "name": "ipython",
    "version": 3
   },
   "file_extension": ".py",
   "mimetype": "text/x-python",
   "name": "python",
   "nbconvert_exporter": "python",
   "pygments_lexer": "ipython3",
   "version": "3.7.11"
  },
  "nteract": {
   "version": "0.28.0"
  }
 },
 "nbformat": 4,
 "nbformat_minor": 4
}
